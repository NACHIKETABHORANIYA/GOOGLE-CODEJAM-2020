{
 "cells": [
  {
   "cell_type": "code",
   "execution_count": 2,
   "metadata": {},
   "outputs": [
    {
     "name": "stdout",
     "output_type": "stream",
     "text": [
      "2\n",
      "2\n",
      "1 2\n",
      "2 2\n",
      "2\n",
      "1 1\n",
      "2 1\n",
      "case #1: 3 1 1\n",
      "case #2: 2 1 1\n"
     ]
    }
   ],
   "source": [
    "import numpy as np\n",
    "T=int(input())\n",
    "t=[]\n",
    "r=[]\n",
    "c=[]\n",
    "\n",
    "s=int(T)\n",
    "\n",
    "while(s>0):\n",
    "    N=int(input())\n",
    "    l1=[]\n",
    "    k=[]\n",
    "    R=0\n",
    "    C=0\n",
    "    \n",
    "    for i in range(N):\n",
    "        l1= list(map(int, input().split()))\n",
    "        if(len(l1)!=len(set(l1))):\n",
    "            R=R+1\n",
    "        k.append(l1)\n",
    "        \n",
    "    a=np.array(k)    \n",
    "    b=a.transpose()\n",
    "    \n",
    "    for i in range(len(b)):\n",
    "        if(len(b[i])!=len(set(b[i]))):\n",
    "            C=C+1\n",
    "            \n",
    "    v=a.trace()\n",
    "    t.append(v)\n",
    "    r.append(R)\n",
    "    c.append(C)\n",
    "    s=s-1\n",
    "    \n",
    "for i in range(T):\n",
    "    print(\"case #\"+str(i+1)+\":\",t[i],r[i],c[i])\n"
   ]
  },
  {
   "cell_type": "code",
   "execution_count": null,
   "metadata": {},
   "outputs": [],
   "source": []
  }
 ],
 "metadata": {
  "kernelspec": {
   "display_name": "Python 3",
   "language": "python",
   "name": "python3"
  },
  "language_info": {
   "codemirror_mode": {
    "name": "ipython",
    "version": 3
   },
   "file_extension": ".py",
   "mimetype": "text/x-python",
   "name": "python",
   "nbconvert_exporter": "python",
   "pygments_lexer": "ipython3",
   "version": "3.7.4"
  }
 },
 "nbformat": 4,
 "nbformat_minor": 2
}
