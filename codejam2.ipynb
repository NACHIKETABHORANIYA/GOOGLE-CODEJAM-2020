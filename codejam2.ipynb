{
 "cells": [
  {
   "cell_type": "code",
   "execution_count": null,
   "metadata": {},
   "outputs": [],
   "source": [
    "def fun(t,res,pre):\n",
    "    if pre != '' and t != '':\n",
    "        if int(pre) > int(t[0]):\n",
    "            for i in range(int(pre)-int(t[0])):\n",
    "                res = res + ')'\n",
    "    if t == '':\n",
    "        for i in range(int(pre)):\n",
    "            res = res + ')'\n",
    "        return res\n",
    "    if int(t[0]) == 0:\n",
    "        return fun(t[1:],res + t[0],t[0])\n",
    "    if int(t[0]) == 1:\n",
    "        if pre != '':\n",
    "            if int(pre) == 0:\n",
    "                res = res + '(' + t[0]\n",
    "            else:\n",
    "                res = res + t[0]\n",
    "        else:\n",
    "            res = res + '(' + t[0]\n",
    "        return fun(t[1:],res,t[0])\n",
    "    if int(t[0]) > 1:\n",
    "        if pre != '':\n",
    "            for i in range(int(t[0]) - int(pre)):\n",
    "                res = res + '('\n",
    "            res = res + t[0]\n",
    "        else:\n",
    "            for i in range(int(t[0])):\n",
    "                res = res + '('\n",
    "            res = res + t[0]\n",
    "        return fun(t[1:],res,t[0])\n",
    "T = int(input())\n",
    "for m in range(0,T):\n",
    "    k = input()\n",
    "    print('Case #{}: {}'.format(m + 1,fun(k,'','')))"
   ]
  }
 ],
 "metadata": {
  "kernelspec": {
   "display_name": "Python 3",
   "language": "python",
   "name": "python3"
  },
  "language_info": {
   "codemirror_mode": {
    "name": "ipython",
    "version": 3
   },
   "file_extension": ".py",
   "mimetype": "text/x-python",
   "name": "python",
   "nbconvert_exporter": "python",
   "pygments_lexer": "ipython3",
   "version": "3.7.4"
  }
 },
 "nbformat": 4,
 "nbformat_minor": 2
}
